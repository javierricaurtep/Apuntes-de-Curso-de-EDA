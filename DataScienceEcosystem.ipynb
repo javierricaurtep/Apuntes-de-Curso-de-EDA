{
  "nbformat": 4,
  "nbformat_minor": 0,
  "metadata": {
    "colab": {
      "provenance": [],
      "authorship_tag": "ABX9TyN5QDev+5P5zCY6GzRNtyAb",
      "include_colab_link": true
    },
    "kernelspec": {
      "name": "python3",
      "display_name": "Python 3"
    },
    "language_info": {
      "name": "python"
    }
  },
  "cells": [
    {
      "cell_type": "markdown",
      "metadata": {
        "id": "view-in-github",
        "colab_type": "text"
      },
      "source": [
        "<a href=\"https://colab.research.google.com/github/javierricaurtep/Apuntes-de-Curso-de-EDA/blob/main/DataScienceEcosystem.ipynb\" target=\"_parent\"><img src=\"https://colab.research.google.com/assets/colab-badge.svg\" alt=\"Open In Colab\"/></a>"
      ]
    },
    {
      "cell_type": "markdown",
      "source": [
        "#Data Science Tools and Ecosystem\n",
        "\n"
      ],
      "metadata": {
        "id": "ymBw0m3Xel-8"
      }
    },
    {
      "cell_type": "markdown",
      "source": [
        "In this notebook, Data Science Tools and Ecosystem are summarized."
      ],
      "metadata": {
        "id": "O6ZNxlAmeryK"
      }
    },
    {
      "cell_type": "markdown",
      "source": [
        "Some of the popular languages that Data Scientists use are:\n",
        "\n",
        "\n",
        "1.   Python\n",
        "2.   R\n",
        "3. Julia\n",
        "\n",
        "\n",
        "\n"
      ],
      "metadata": {
        "id": "G0PaEsA6gL2i"
      }
    },
    {
      "cell_type": "markdown",
      "source": [
        "Some of the commonly used libraries used by Data Scientists include:\n",
        "\n",
        "1.   Pandas\n",
        "2.   Seaborn\n",
        "3. Keras\n",
        "\n"
      ],
      "metadata": {
        "id": "1YCt4xGwgpmm"
      }
    },
    {
      "cell_type": "markdown",
      "source": [
        "Data Science Tools\n",
        "\n",
        "1.   RStudio\n",
        "2.   Google Colab\n",
        "3. Jupyter Notebook\n",
        "\n"
      ],
      "metadata": {
        "id": "1Uicm_MqhEzM"
      }
    },
    {
      "cell_type": "markdown",
      "source": [
        "### Below are a few examples of evaluating arithmetic expressions in Python.\n"
      ],
      "metadata": {
        "id": "VY9Q4ZJlhvvM"
      }
    },
    {
      "cell_type": "code",
      "source": [
        "(3*4)+5\n",
        "#This a simple arithmetic expression to mutiply then add integers"
      ],
      "metadata": {
        "colab": {
          "base_uri": "https://localhost:8080/"
        },
        "id": "uHwL7R7liE2D",
        "outputId": "8deae2a1-26d1-4b29-9307-65a726df5b4b"
      },
      "execution_count": 1,
      "outputs": [
        {
          "output_type": "execute_result",
          "data": {
            "text/plain": [
              "17"
            ]
          },
          "metadata": {},
          "execution_count": 1
        }
      ]
    },
    {
      "cell_type": "code",
      "source": [
        "200/60\n",
        "#This will convert 200 minutes to hours by diving by 60"
      ],
      "metadata": {
        "colab": {
          "base_uri": "https://localhost:8080/"
        },
        "id": "NEvYAVTIikJM",
        "outputId": "58e692a8-0227-4407-cd37-a469f1a97399"
      },
      "execution_count": 2,
      "outputs": [
        {
          "output_type": "execute_result",
          "data": {
            "text/plain": [
              "3.3333333333333335"
            ]
          },
          "metadata": {},
          "execution_count": 2
        }
      ]
    },
    {
      "cell_type": "markdown",
      "source": [
        "**Objectives**\n",
        "\n",
        "*   List popular languages for Data Science\n",
        "*   LList popular tools for Data Science\n",
        "* List popular libraries for Data Science\n",
        "\n"
      ],
      "metadata": {
        "id": "ojvgtSjyi9LP"
      }
    },
    {
      "cell_type": "markdown",
      "source": [
        "## Author\n",
        "Javier"
      ],
      "metadata": {
        "id": "ilzGb7mSjcFV"
      }
    }
  ]
}